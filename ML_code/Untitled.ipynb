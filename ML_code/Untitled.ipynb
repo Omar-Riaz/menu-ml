{
 "cells": [
  {
   "cell_type": "code",
   "execution_count": 403,
   "metadata": {},
   "outputs": [],
   "source": [
    "#merge csv's into a single data obj\n",
    "import pandas as pd\n",
    "from sklearn.feature_selection import SelectFromModel\n",
    "from sklearn.ensemble.forest import RandomForestClassifier\n",
    "\n",
    "data1 = pd.read_csv(\"menu UTD data.csv\")\n",
    "data2 = pd.read_csv(\"menu SF data.csv\")\n",
    "data3 = pd.read_csv(\"menu NY data.csv\", encoding='iso-8859-1')"
   ]
  },
  {
   "cell_type": "code",
   "execution_count": 404,
   "metadata": {},
   "outputs": [
    {
     "name": "stderr",
     "output_type": "stream",
     "text": [
      "C:\\Users\\Omar\\Anaconda3\\lib\\site-packages\\ipykernel_launcher.py:7: FutureWarning: Sorting because non-concatenation axis is not aligned. A future version\n",
      "of pandas will change to not sort by default.\n",
      "\n",
      "To accept the future behavior, pass 'sort=False'.\n",
      "\n",
      "To retain the current behavior and silence the warning, pass 'sort=True'.\n",
      "\n",
      "  import sys\n"
     ]
    }
   ],
   "source": [
    "# concatenate and validate\n",
    "data1.reset_index(drop=True, inplace=True)\n",
    "data2.reset_index(drop=True, inplace=True)\n",
    "data3.reset_index(drop=True, inplace=True)\n",
    "\n",
    "#turn NaN into 0's\n",
    "data = pd.concat([data1, data2, data3], axis = 0)\n",
    "data = data.fillna(int(0))"
   ]
  },
  {
   "cell_type": "code",
   "execution_count": 405,
   "metadata": {},
   "outputs": [],
   "source": [
    "# turning cuisines and foodTypes into categorical\n",
    "data['cuisines'] = data['cuisines'].astype('category')\n",
    "data['foodTypes'] = data['foodTypes'].astype('category')"
   ]
  },
  {
   "cell_type": "code",
   "execution_count": 406,
   "metadata": {},
   "outputs": [],
   "source": [
    "# turn factors into numerical\n",
    "from sklearn import preprocessing\n",
    "le = preprocessing.LabelEncoder()\n",
    "data.loc[:, 'cuisines'] = le.fit_transform(data.loc[:, 'cuisines'])"
   ]
  },
  {
   "cell_type": "code",
   "execution_count": 407,
   "metadata": {},
   "outputs": [],
   "source": [
    "# prepare training and test data\n",
    "from sklearn.model_selection import train_test_split\n",
    "X = data.drop(['foodTypes', 'apiKey', 'basePrice', 'description', 'name', 'restaurant'], axis=1)\n",
    "y = data['foodTypes']\n",
    "X_train, X_test, y_train, y_test = train_test_split(X, y, test_size=0.3, random_state=42)"
   ]
  },
  {
   "cell_type": "code",
   "execution_count": 408,
   "metadata": {},
   "outputs": [
    {
     "name": "stdout",
     "output_type": "stream",
     "text": [
      "(2225, 1631)\n",
      "(2225,)\n"
     ]
    },
    {
     "data": {
      "text/plain": [
       "SelectFromModel(estimator=RandomForestClassifier(bootstrap=True, class_weight=None, criterion='gini',\n",
       "            max_depth=None, max_features='auto', max_leaf_nodes=None,\n",
       "            min_impurity_decrease=0.0, min_impurity_split=None,\n",
       "            min_samples_leaf=1, min_samples_split=2,\n",
       "            min_weight_fraction_leaf=0.0, n_estimators=200, n_jobs=None,\n",
       "            oob_score=False, random_state=None, verbose=0,\n",
       "            warm_start=False),\n",
       "        max_features=None, norm_order=1, prefit=False, threshold=None)"
      ]
     },
     "execution_count": 408,
     "metadata": {},
     "output_type": "execute_result"
    }
   ],
   "source": [
    "# Preform feature selection\n",
    "from sklearn import preprocessing\n",
    "sel = SelectFromModel(RandomForestClassifier(n_estimators = 200))\n",
    "print(X_train.shape)\n",
    "print(y_train.shape)\n",
    "sel.fit(X_train, y_train)"
   ]
  },
  {
   "cell_type": "code",
   "execution_count": 409,
   "metadata": {},
   "outputs": [
    {
     "data": {
      "text/plain": [
       "296"
      ]
     },
     "execution_count": 409,
     "metadata": {},
     "output_type": "execute_result"
    }
   ],
   "source": [
    "# Show the selected features\n",
    "selected_feat= X_train.columns[(sel.get_support())]\n",
    "len(selected_feat)"
   ]
  },
  {
   "cell_type": "code",
   "execution_count": 410,
   "metadata": {},
   "outputs": [
    {
     "name": "stdout",
     "output_type": "stream",
     "text": [
      "Index(['%', 'Advance', 'Beef', 'Bread', 'CAL', 'Chicken', 'Choice', 'Corn',\n",
      "       'Crepe', 'Fish',\n",
      "       ...\n",
      "       'vegetables', 'vinaigrette', 'vinegar', 'walnuts', 'wheat', 'wings',\n",
      "       'wood', 'yogurt', 'zucchini', '|'],\n",
      "      dtype='object', length=296)\n",
      "0.0006131207847946045\n",
      "True\n"
     ]
    }
   ],
   "source": [
    "print(selected_feat)\n",
    "print(sel.threshold_)\n",
    "print('cuisines' in selected_feat)      #basic sanity check --> cuisine should be a very important feature"
   ]
  },
  {
   "cell_type": "code",
   "execution_count": 411,
   "metadata": {},
   "outputs": [
    {
     "data": {
      "text/plain": [
       "<matplotlib.axes._subplots.AxesSubplot at 0x12c1a0ba780>"
      ]
     },
     "execution_count": 411,
     "metadata": {},
     "output_type": "execute_result"
    },
    {
     "data": {
      "image/png": "[encoded data removed]",
      "text/plain": [
       "<Figure size 432x288 with 1 Axes>"
      ]
     },
     "metadata": {
      "needs_background": "light"
     },
     "output_type": "display_data"
    }
   ],
   "source": [
    "# Visualize selected features\n",
    "from sklearn.preprocessing import normalize\n",
    "norm_data = normalize([sel.estimator_.feature_importances_], axis = 0).ravel()\n",
    "pd.Series(norm_data).hist()"
   ]
  },
  {
   "cell_type": "code",
   "execution_count": 412,
   "metadata": {},
   "outputs": [
    {
     "data": {
      "text/plain": [
       "RandomForestClassifier(bootstrap=True, class_weight=None, criterion='gini',\n",
       "            max_depth=None, max_features='auto', max_leaf_nodes=None,\n",
       "            min_impurity_decrease=0.0, min_impurity_split=None,\n",
       "            min_samples_leaf=1, min_samples_split=2,\n",
       "            min_weight_fraction_leaf=0.0, n_estimators=200, n_jobs=None,\n",
       "            oob_score=False, random_state=None, verbose=0,\n",
       "            warm_start=False)"
      ]
     },
     "execution_count": 412,
     "metadata": {},
     "output_type": "execute_result"
    }
   ],
   "source": [
    "# change data to have only important features, and then fit a new model with it\n",
    "X_imp_train = sel.transform(X_train)\n",
    "X_imp_test = sel.transform(X_test)\n",
    "rfc = RandomForestClassifier(n_estimators = 200)\n",
    "rfc.fit(X_imp_train, y_train)"
   ]
  },
  {
   "cell_type": "code",
   "execution_count": 413,
   "metadata": {},
   "outputs": [],
   "source": [
    "# preform predictions with the new model\n",
    "preds = rfc.predict(X_imp_test)"
   ]
  },
  {
   "cell_type": "code",
   "execution_count": 414,
   "metadata": {},
   "outputs": [
    {
     "data": {
      "text/plain": [
       "0.6184486373165619"
      ]
     },
     "execution_count": 414,
     "metadata": {},
     "output_type": "execute_result"
    }
   ],
   "source": [
    "from sklearn.metrics import accuracy_score\n",
    "accuracy_score(preds, y_test)"
   ]
  },
  {
   "cell_type": "code",
   "execution_count": null,
   "metadata": {},
   "outputs": [],
   "source": []
  }
 ],
 "metadata": {
  "kernelspec": {
   "display_name": "Python 3",
   "language": "python",
   "name": "python3"
  },
  "language_info": {
   "codemirror_mode": {
    "name": "ipython",
    "version": 3
   },
   "file_extension": ".py",
   "mimetype": "text/x-python",
   "name": "python",
   "nbconvert_exporter": "python",
   "pygments_lexer": "ipython3",
   "version": "3.7.3"
  }
 },
 "nbformat": 4,
 "nbformat_minor": 2
}
